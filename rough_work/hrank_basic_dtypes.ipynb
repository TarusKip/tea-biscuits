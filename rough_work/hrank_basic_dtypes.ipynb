{
 "cells": [
  {
   "cell_type": "code",
   "execution_count": null,
   "metadata": {},
   "outputs": [],
   "source": [
    "def solve(s):\n",
    "    s_input = input()\n",
    "    s_cap = s_input.title()\n",
    "    return s_cap"
   ]
  },
  {
   "cell_type": "code",
   "execution_count": null,
   "metadata": {},
   "outputs": [],
   "source": [
    "a_char = 'KaL2/'\n",
    "swapped_char = ''\n",
    "\n",
    "for i in a_char:\n",
    "    if i.isalpha():\n",
    "        if i.isupper():\n",
    "            swap = i.lower()\n",
    "            swapped_char += swap\n",
    "        else:\n",
    "            swap = i.upper()\n",
    "            swapped_char += swap\n",
    "    else:\n",
    "        swapped_char += i\n",
    "\n",
    "print(swapped_char)\n",
    "\n",
    "# The same can be achhieved with:\n",
    "# sring = 'kM0Ne8'\n",
    "# play = sring.swapcase()\n",
    "# print(play)"
   ]
  }
 ],
 "metadata": {
  "kernelspec": {
   "display_name": "tea-biscuits-env",
   "language": "python",
   "name": "python3"
  },
  "language_info": {
   "codemirror_mode": {
    "name": "ipython",
    "version": 3
   },
   "file_extension": ".py",
   "mimetype": "text/x-python",
   "name": "python",
   "nbconvert_exporter": "python",
   "pygments_lexer": "ipython3",
   "version": "3.10.6"
  },
  "orig_nbformat": 4
 },
 "nbformat": 4,
 "nbformat_minor": 2
}
