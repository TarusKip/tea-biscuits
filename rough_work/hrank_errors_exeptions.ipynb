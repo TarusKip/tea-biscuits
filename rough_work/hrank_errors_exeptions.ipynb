{
 "cells": [
  {
   "cell_type": "code",
   "execution_count": 7,
   "metadata": {},
   "outputs": [],
   "source": [
    "if __name__ == '__main__':\n",
    "    number_of_commands = int(input())\n",
    "    list_of_commands = []\n",
    "\n",
    "    for i in range(number_of_commands):\n",
    "        command = input().split()\n",
    "        list_of_commands.append(command)\n"
   ]
  },
  {
   "cell_type": "code",
   "execution_count": 20,
   "metadata": {},
   "outputs": [
    {
     "name": "stdout",
     "output_type": "stream",
     "text": [
      "Error Code: division by zero\n",
      "Error Code: invalid literal for int() with base 10: '$'\n",
      "3.0\n"
     ]
    }
   ],
   "source": [
    "for i in list_of_commands:\n",
    "    try:\n",
    "        numerator = int(i[0])\n",
    "        denominator = int(i[1])\n",
    "        print(numerator/denominator)\n",
    "    except ZeroDivisionError as e:\n",
    "        print('Error Code:', e)\n",
    "    except ValueError as v:\n",
    "        print('Error Code:', v)"
   ]
  },
  {
   "cell_type": "code",
   "execution_count": 53,
   "metadata": {},
   "outputs": [],
   "source": [
    "# Exception Handling ; Regex\n",
    "\n",
    "if __name__ == '__main__':\n",
    "    number_of_strings = int(input())\n",
    "\n",
    "    list_of_strings = []\n",
    "\n",
    "    for i in range(number_of_strings):\n",
    "        a_string = input().split()\n",
    "        list_of_strings.append(a_string)"
   ]
  },
  {
   "cell_type": "code",
   "execution_count": 6,
   "metadata": {},
   "outputs": [],
   "source": [
    "import re"
   ]
  },
  {
   "cell_type": "code",
   "execution_count": 54,
   "metadata": {},
   "outputs": [
    {
     "name": "stdout",
     "output_type": "stream",
     "text": [
      "2\n",
      "/^(?!\\.)(?=.)[d-\\.]$/\n",
      "[a-zA-Z0-9,.' ]+\n"
     ]
    }
   ],
   "source": [
    "print(number_of_strings)\n",
    "\n",
    "for i in list_of_strings:\n",
    "    try:\n",
    "        print(i[0], i[1])\n",
    "    except:\n",
    "        print(i[0])"
   ]
  },
  {
   "cell_type": "code",
   "execution_count": 42,
   "metadata": {},
   "outputs": [
    {
     "ename": "TypeError",
     "evalue": "sequence item 0: expected str instance, list found",
     "output_type": "error",
     "traceback": [
      "\u001b[0;31m---------------------------------------------------------------------------\u001b[0m",
      "\u001b[0;31mTypeError\u001b[0m                                 Traceback (most recent call last)",
      "Cell \u001b[0;32mIn[42], line 1\u001b[0m\n\u001b[0;32m----> 1\u001b[0m joined_list \u001b[39m=\u001b[39m \u001b[39m'\u001b[39;49m\u001b[39m \u001b[39;49m\u001b[39m'\u001b[39;49m\u001b[39m.\u001b[39;49mjoin(list_of_strings)\n\u001b[1;32m      2\u001b[0m \u001b[39mprint\u001b[39m(joined_list)\n",
      "\u001b[0;31mTypeError\u001b[0m: sequence item 0: expected str instance, list found"
     ]
    }
   ],
   "source": [
    "string = ''\n",
    "for i in list_of_strings:\n",
    "    \n",
    "\n",
    "print(joined_list)"
   ]
  },
  {
   "cell_type": "code",
   "execution_count": 78,
   "metadata": {},
   "outputs": [
    {
     "name": "stdout",
     "output_type": "stream",
     "text": [
      "False\n",
      "True\n"
     ]
    }
   ],
   "source": [
    "def is_valid_regex(list_of_strings):\n",
    "    for i in list_of_strings:\n",
    "        try:\n",
    "            regex = i[0]+i[1]\n",
    "            re.compile(regex)\n",
    "            print(True)\n",
    "        except IndexError:\n",
    "            regex = i[0]\n",
    "            try:\n",
    "                re.compile(regex)\n",
    "                print(True)\n",
    "            except re.error:\n",
    "                print(False)\n",
    "        except re.error:\n",
    "            print(\"Other Error Captured\")\n",
    "\n",
    "is_valid_regex(list_of_strings)"
   ]
  }
 ],
 "metadata": {
  "kernelspec": {
   "display_name": "tea-biscuits-env",
   "language": "python",
   "name": "python3"
  },
  "language_info": {
   "codemirror_mode": {
    "name": "ipython",
    "version": 3
   },
   "file_extension": ".py",
   "mimetype": "text/x-python",
   "name": "python",
   "nbconvert_exporter": "python",
   "pygments_lexer": "ipython3",
   "version": "3.10.6"
  },
  "orig_nbformat": 4
 },
 "nbformat": 4,
 "nbformat_minor": 2
}
