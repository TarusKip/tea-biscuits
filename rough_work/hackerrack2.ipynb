{
 "cells": [
  {
   "cell_type": "code",
   "execution_count": 2,
   "metadata": {},
   "outputs": [],
   "source": [
    "# Finding the average; Dictionaries\n",
    "\n",
    "if __name__ == '__main__':\n",
    "    n = int(input())\n",
    "    student_marks = {}\n",
    "    for _ in range(n):\n",
    "        name, *line = input().split()\n",
    "        scores = list(map(float, line))\n",
    "        student_marks[name] = scores\n",
    "    query_name = input()"
   ]
  },
  {
   "cell_type": "code",
   "execution_count": 3,
   "metadata": {},
   "outputs": [
    {
     "name": "stdout",
     "output_type": "stream",
     "text": [
      "n:  3\n",
      "name:  Malika\n",
      "line:  ['52', '56', '60']\n",
      "scores:  [52.0, 56.0, 60.0]\n",
      "SM:  {'Krishna': [67.0, 68.0, 69.0], 'Arjun': [70.0, 98.0, 63.0], 'Malika': [52.0, 56.0, 60.0]}\n"
     ]
    }
   ],
   "source": [
    "print('n: ', n)\n",
    "print('name: ', name)\n",
    "print('line: ', line)\n",
    "print('scores: ', scores)\n",
    "print('SM: ', student_marks)"
   ]
  },
  {
   "cell_type": "code",
   "execution_count": 8,
   "metadata": {},
   "outputs": [
    {
     "name": "stdout",
     "output_type": "stream",
     "text": [
      "{'T', 'a', 'r'}\n"
     ]
    }
   ],
   "source": [
    "# Sets; .difference() ; .symmetric_difference()\n",
    "\n",
    "s = set('Tarus')\n",
    "t = s.difference('us')\n",
    "print(t)"
   ]
  },
  {
   "cell_type": "code",
   "execution_count": 14,
   "metadata": {},
   "outputs": [
    {
     "name": "stdout",
     "output_type": "stream",
     "text": [
      "4\n"
     ]
    }
   ],
   "source": [
    "eng = '1 2 3 4 5 6 7 8 9'\n",
    "fren = '10 1 2 3 11 21 55 6 8'\n",
    "\n",
    "english = set(eng.split())\n",
    "\n",
    "french = set(fren.split())\n",
    "\n",
    "english_only = english.difference(french)\n",
    "print(len(english_only))"
   ]
  },
  {
   "cell_type": "code",
   "execution_count": 15,
   "metadata": {},
   "outputs": [
    {
     "name": "stdout",
     "output_type": "stream",
     "text": [
      "8\n"
     ]
    }
   ],
   "source": [
    "english_or_french_not_both = english.symmetric_difference(french)\n",
    "print(len(english_or_french_not_both))"
   ]
  },
  {
   "cell_type": "code",
   "execution_count": 51,
   "metadata": {},
   "outputs": [],
   "source": [
    "# Working with Lists ; Insert ; Print ; Append ; Remove ; Sort ; Pop ; Reverse\n",
    "# 3 sections\n",
    "\n",
    "# 12\n",
    "# insert 0 5, insert 1 10, insert 0 6\n",
    "# print\n",
    "# remove 6, append 9, append 1, sort\n",
    "# print\n",
    "# pop, reverse\n",
    "# print\n",
    "\n",
    "def inserting(list, final_list):\n",
    "    position = int(list[1])\n",
    "    element = int(list[2])\n",
    "\n",
    "    final_list.insert(position, element)\n",
    "    return final_list\n",
    "\n",
    "def removing(list, final_list):\n",
    "    element = int(list[1])\n",
    "\n",
    "    final_list.remove(element)\n",
    "    return final_list\n",
    "\n",
    "def appending(list, final_list):\n",
    "    element = int(list[1])\n",
    "\n",
    "    final_list.append(element)\n",
    "    return final_list\n",
    "\n",
    "def sorting(final_list):\n",
    "    return sorted(final_list)\n",
    "\n",
    "def popping(final_list):\n",
    "    final_list.pop()\n",
    "    return final_list\n",
    "\n",
    "def reversing(final_list):\n",
    "    final_list.reverse()\n",
    "    return final_list"
   ]
  },
  {
   "cell_type": "code",
   "execution_count": 20,
   "metadata": {},
   "outputs": [
    {
     "name": "stdout",
     "output_type": "stream",
     "text": [
      "No. of commands:  12\n",
      "Commands:  [['insert', '0', '5'], ['insert', '1', '10'], ['insert', '0', '6'], ['print'], ['remove', '6'], ['append', '9'], ['append', '1'], ['sort'], ['print'], ['pop'], ['reverse'], ['print']]\n"
     ]
    }
   ],
   "source": [
    "# Working with Lists ; Insert ; Print ; Append ; Remove ; Sort ; Pop ; Reverse\n",
    "\n",
    "if __name__ == '__main__':\n",
    "    number_of_commands = int(input())\n",
    "\n",
    "    list_of_commands = []\n",
    "\n",
    "    for i in range(number_of_commands):\n",
    "        command = input().split()\n",
    "        list_of_commands.append(command)\n",
    "\n",
    "print('No. of commands: ', number_of_commands)\n",
    "print('Commands: ', list_of_commands)\n"
   ]
  },
  {
   "cell_type": "code",
   "execution_count": 52,
   "metadata": {},
   "outputs": [
    {
     "name": "stdout",
     "output_type": "stream",
     "text": [
      "insert:  [5]\n",
      "insert:  [5, 10]\n",
      "insert:  [6, 5, 10]\n",
      "printing:  [6, 5, 10]\n",
      "remove:  [5, 10]\n",
      "append:  [5, 10, 9]\n",
      "append:  [5, 10, 9, 1]\n",
      "sort:  [1, 5, 9, 10]\n",
      "printing:  [1, 5, 9, 10]\n",
      "popping:  [1, 5, 9]\n",
      "reverse:  [9, 5, 1]\n",
      "printing:  [9, 5, 1]\n"
     ]
    },
    {
     "data": {
      "text/plain": [
       "[9, 5, 1]"
      ]
     },
     "execution_count": 52,
     "metadata": {},
     "output_type": "execute_result"
    }
   ],
   "source": [
    "# Working with Lists ; Insert ; Print ; Append ; Remove ; Sort ; Pop ; Reverse\n",
    "\n",
    "def iterator(list_of_commands):\n",
    "    final_list = []\n",
    "    for i in list_of_commands:\n",
    "        if i[0] == 'insert':\n",
    "            final_list = inserting(i, final_list)\n",
    "            print('insert: ', final_list)\n",
    "        elif i[0] == 'remove':\n",
    "            final_list = removing(i, final_list)\n",
    "            print('remove: ', final_list)\n",
    "        elif i[0] == 'sort':\n",
    "            final_list = sorting(final_list)\n",
    "            print('sort: ', final_list)\n",
    "        elif i[0] == 'append':\n",
    "            final_list = appending(i, final_list)\n",
    "            print('append: ', final_list)\n",
    "        elif i[0] == 'pop':\n",
    "            final_list = popping(final_list)\n",
    "            print('popping: ', final_list)\n",
    "        elif i[0] == 'reverse':\n",
    "            final_list = reversing(final_list)\n",
    "            print('reverse: ', final_list)\n",
    "        else:\n",
    "            print('printing: ', final_list)\n",
    "    return (final_list)\n",
    "\n",
    "iterator(list_of_commands)\n",
    "\n",
    "# 12\n",
    "# insert 0 5, insert 1 10, insert 0 6\n",
    "# print\n",
    "# remove 6, append 9, append 1, sort\n",
    "# print\n",
    "# pop, reverse\n",
    "# print"
   ]
  },
  {
   "cell_type": "code",
   "execution_count": 55,
   "metadata": {},
   "outputs": [
    {
     "ename": "TypeError",
     "evalue": "can only concatenate tuple (not \"int\") to tuple",
     "output_type": "error",
     "traceback": [
      "\u001b[0;31m---------------------------------------------------------------------------\u001b[0m",
      "\u001b[0;31mTypeError\u001b[0m                                 Traceback (most recent call last)",
      "Cell \u001b[0;32mIn[55], line 3\u001b[0m\n\u001b[1;32m      1\u001b[0m tups \u001b[39m=\u001b[39m (\u001b[39m1\u001b[39m, \u001b[39m2\u001b[39m, \u001b[39m3\u001b[39m)\n\u001b[1;32m      2\u001b[0m tups2 \u001b[39m=\u001b[39m (\u001b[39m4\u001b[39m)\n\u001b[0;32m----> 3\u001b[0m tups3 \u001b[39m=\u001b[39m tups \u001b[39m+\u001b[39;49m tups2\n\u001b[1;32m      4\u001b[0m \u001b[39mprint\u001b[39m(tups)\n",
      "\u001b[0;31mTypeError\u001b[0m: can only concatenate tuple (not \"int\") to tuple"
     ]
    }
   ],
   "source": []
  }
 ],
 "metadata": {
  "kernelspec": {
   "display_name": "tea-biscuits-env",
   "language": "python",
   "name": "python3"
  },
  "language_info": {
   "codemirror_mode": {
    "name": "ipython",
    "version": 3
   },
   "file_extension": ".py",
   "mimetype": "text/x-python",
   "name": "python",
   "nbconvert_exporter": "python",
   "pygments_lexer": "ipython3",
   "version": "3.10.6"
  },
  "orig_nbformat": 4
 },
 "nbformat": 4,
 "nbformat_minor": 2
}
