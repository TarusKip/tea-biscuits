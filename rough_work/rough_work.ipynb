{
 "cells": [
  {
   "cell_type": "code",
   "execution_count": 7,
   "metadata": {},
   "outputs": [
    {
     "name": "stdout",
     "output_type": "stream",
     "text": [
      "[[0, 0], [0, 1], [1, 0], [1, 1], [2, 0], [2, 1]]\n"
     ]
    }
   ],
   "source": [
    "## Loops and Lists\n",
    "my_num = []\n",
    "\n",
    "for i in range (3):\n",
    "    for x in range (2):\n",
    "        my_num.append([i, x])\n",
    "\n",
    "print(my_num)"
   ]
  },
  {
   "cell_type": "code",
   "execution_count": 6,
   "metadata": {},
   "outputs": [
    {
     "name": "stdout",
     "output_type": "stream",
     "text": [
      "[8, 7, 6, 4, 4, 3]\n"
     ]
    }
   ],
   "source": [
    "lst = [4, 7, 8, 4, 3, 6]\n",
    "\n",
    "sort_lst = sorted(lst, reverse=True)\n",
    "print(sort_lst)"
   ]
  },
  {
   "cell_type": "code",
   "execution_count": 7,
   "metadata": {},
   "outputs": [
    {
     "name": "stdout",
     "output_type": "stream",
     "text": [
      "[8, 7, 6, 4, 3]\n"
     ]
    }
   ],
   "source": [
    "# List Comprehension\n",
    "unique_lst = []\n",
    "[unique_lst.append(x) for x in sort_lst if x not in unique_lst]\n",
    "print(unique_lst)"
   ]
  },
  {
   "cell_type": "code",
   "execution_count": 2,
   "metadata": {},
   "outputs": [
    {
     "name": "stdout",
     "output_type": "stream",
     "text": [
      "[2, 4, 6]\n"
     ]
    }
   ],
   "source": [
    "# Mapping\n",
    "numbers = [1, 2, 3]\n",
    "result = list(map(lambda x: x * 2, numbers))\n",
    "print(result)"
   ]
  },
  {
   "cell_type": "code",
   "execution_count": 18,
   "metadata": {},
   "outputs": [
    {
     "name": "stdout",
     "output_type": "stream",
     "text": [
      "[['mike', 12], ['Joe', 12], ['joan', 7], ['Haizel', 7], ['mary', 3], ['ted', 2]]\n"
     ]
    }
   ],
   "source": [
    "list = [[\"ted\", 2], [\"mary\", 3], [\"mike\", 12], [\"joan\", 7], ['Joe', 12], ['Haizel', 7]]\n",
    "\n",
    "list.sort(key=lambda x: x[1], reverse=True)\n",
    "\n",
    "# The above code does that same as the below code\n",
    "\n",
    "# def takeSecond(elem):\n",
    "#     return(elem[1])\n",
    "# list.sort(key=takeSecond, reverse=True)\n",
    "\n",
    "print(list)"
   ]
  },
  {
   "cell_type": "code",
   "execution_count": 60,
   "metadata": {},
   "outputs": [
    {
     "name": "stdout",
     "output_type": "stream",
     "text": [
      "7\n"
     ]
    }
   ],
   "source": [
    "numbers = []\n",
    "[numbers.append(x[1]) for x in list if x[1] not in numbers]\n",
    "print(numbers[1])\n",
    "# for x in list:\n",
    "#     print(x[1])"
   ]
  },
  {
   "cell_type": "code",
   "execution_count": 74,
   "metadata": {},
   "outputs": [
    {
     "name": "stdout",
     "output_type": "stream",
     "text": [
      "[['sam', 12], ['jay', 4], ['sandy', 8], ['mary', 9], ['noel', 32], ['kimberly', 12]]\n"
     ]
    }
   ],
   "source": [
    "name = ['sam', 'jay', 'sandy', 'mary', 'noel', 'kimberly']\n",
    "score = [12, 4, 8, 9, 32, 12]\n",
    "\n",
    "def get_name_score(name, score):\n",
    "    name_score = []\n",
    "    for x in range(len(name)):\n",
    "        name_score.append([name[x], score[x]])\n",
    "    return name_score\n",
    "\n",
    "name_score = get_name_score(name, score)\n",
    "print(name_score)"
   ]
  },
  {
   "cell_type": "code",
   "execution_count": 57,
   "metadata": {},
   "outputs": [
    {
     "name": "stdout",
     "output_type": "stream",
     "text": [
      "['mike', 'jeff', 'chelsea', 'kiki', 'maureen', 'valarie']\n"
     ]
    }
   ],
   "source": [
    "def get_text():\n",
    "    text_list = []\n",
    "    text_input = input()\n",
    "    \n",
    "    while text_input != 'End' and text_input != 'end':\n",
    "        text_list.append(text_input)\n",
    "        text_input = input()\n",
    "    \n",
    "    return text_list\n",
    "\n",
    "print(get_text())"
   ]
  },
  {
   "cell_type": "code",
   "execution_count": 86,
   "metadata": {},
   "outputs": [
    {
     "name": "stdout",
     "output_type": "stream",
     "text": [
      "8\n"
     ]
    }
   ],
   "source": [
    "def find_second_highest_score(name_and_score):\n",
    "    all_scores = []\n",
    "    [all_scores.append(x[1]) for x in name_and_score if x[1] not in all_scores]\n",
    "    all_scores.sort(reverse=True)\n",
    "    return all_scores[1]\n",
    "\n",
    "second_high_score = find_second_highest_score(name_score)\n",
    "print(second_high_score)"
   ]
  },
  {
   "cell_type": "code",
   "execution_count": 85,
   "metadata": {},
   "outputs": [
    {
     "name": "stdout",
     "output_type": "stream",
     "text": [
      "[['kimberly'], ['sam']]\n"
     ]
    }
   ],
   "source": [
    "def find_runners_up(second_highest_score, name_and_score):\n",
    "    shs = second_highest_score\n",
    "    runners_up = []\n",
    "    # [runners_up.append(x[0]) for x in name_and_score if x[1]==shs]\n",
    "    for x in name_and_score:\n",
    "        if x[1]==shs:\n",
    "            runners_up.append(x[0])\n",
    "    runners_up.sort()\n",
    "    return runners_up\n",
    "\n",
    "second_high_score = find_second_highest_score(name_score)\n",
    "runners_up = find_runners_up(second_high_score, name_score)\n",
    "print(runners_up)"
   ]
  },
  {
   "cell_type": "code",
   "execution_count": 79,
   "metadata": {},
   "outputs": [
    {
     "name": "stdout",
     "output_type": "stream",
     "text": [
      "kimberly\n",
      "sam\n"
     ]
    }
   ],
   "source": [
    "second_highest_score = find_second_highest_score(name_score)\n",
    "runners_up = find_runners_up(second_highest_score, name_score)\n",
    "\n",
    "for i in runners_up:\n",
    "    print(i)"
   ]
  }
 ],
 "metadata": {
  "kernelspec": {
   "display_name": "Python 3",
   "language": "python",
   "name": "python3"
  },
  "language_info": {
   "codemirror_mode": {
    "name": "ipython",
    "version": 3
   },
   "file_extension": ".py",
   "mimetype": "text/x-python",
   "name": "python",
   "nbconvert_exporter": "python",
   "pygments_lexer": "ipython3",
   "version": "3.10.6"
  },
  "orig_nbformat": 4
 },
 "nbformat": 4,
 "nbformat_minor": 2
}
