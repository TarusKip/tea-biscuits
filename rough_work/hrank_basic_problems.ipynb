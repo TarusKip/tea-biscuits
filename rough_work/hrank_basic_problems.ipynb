{
 "cells": [
  {
   "cell_type": "code",
   "execution_count": null,
   "metadata": {},
   "outputs": [],
   "source": [
    "# Basic problem.\n",
    "# Given sring s and int k which is a factor of s\n",
    "# Pring out the s/k lines in which each line only has unique characters from the original string"
   ]
  },
  {
   "cell_type": "code",
   "execution_count": null,
   "metadata": {},
   "outputs": [],
   "source": [
    "def merge_the_tools(string, k):\n",
    "    number_of_substrings = int((len(string)/k))\n",
    "\n",
    "    for i in range(number_of_substrings):\n",
    "        unique_values_in_substring = ''\n",
    "        substring = string[0:k]\n",
    "\n",
    "        for i in substring:\n",
    "            if i not in unique_values_in_substring:\n",
    "                unique_values_in_substring += i\n",
    "            else:\n",
    "                continue\n",
    "        \n",
    "        string = string[k:]\n",
    "        print(unique_values_in_substring)   \n",
    "\n",
    "string = 'ADBBTTJSLEEDDDLLOL'\n",
    "k = 3\n",
    "\n",
    "merge_the_tools(string, k)    "
   ]
  },
  {
   "cell_type": "code",
   "execution_count": null,
   "metadata": {},
   "outputs": [],
   "source": [
    "# collections.Counter()\n",
    "# Calculate how much money will be made from the sale of shoes\n",
    "\n",
    "from collections import Counter\n",
    "\n",
    "myList = [1,1,2,3,4,5,3,2,3,4,2,1,2,3]\n",
    "\n",
    "counted_list = Counter(myList)\n",
    "print(counted_list)\n",
    "\n",
    "# result: Counter({2: 4, 3: 4, 1: 3, 4: 2, 5: 1})"
   ]
  },
  {
   "cell_type": "code",
   "execution_count": null,
   "metadata": {},
   "outputs": [],
   "source": [
    "number_of_shoes = int(input())\n",
    "print('number of shoes: ', number_of_shoes)\n",
    "shoe_sizes = input().split()\n",
    "print('shoe sizes: ', shoe_sizes)\n",
    "number_of_customers = int(input())\n",
    "print('number of customers: ', number_of_customers)"
   ]
  },
  {
   "cell_type": "code",
   "execution_count": null,
   "metadata": {},
   "outputs": [],
   "source": [
    "potential_sales = []\n",
    "for i in range(number_of_customers):\n",
    "    shoe_purchase_price = input().split()\n",
    "    potential_sales.append(shoe_purchase_price)\n",
    "    \n",
    "print('potential sales: ', potential_sales)"
   ]
  },
  {
   "cell_type": "code",
   "execution_count": null,
   "metadata": {},
   "outputs": [],
   "source": [
    "shoe_size_dict = Counter(shoe_sizes)\n",
    "print(shoe_size_dict)"
   ]
  },
  {
   "cell_type": "code",
   "execution_count": null,
   "metadata": {},
   "outputs": [],
   "source": [
    "revenue = 0\n",
    "\n",
    "for i in potential_sales:\n",
    "    size = i[0]\n",
    "    price = int(i[1])\n",
    "    remaining_shoes = shoe_size_dict[size]\n",
    "    print('remaining shoes before: ', remaining_shoes)\n",
    "    if shoe_size_dict[size] != 0:\n",
    "        revenue += price\n",
    "        remaining_shoes -= 1\n",
    "        shoe_size_dict[size] = remaining_shoes\n",
    "        print('remaining_shoes after: ', remaining_shoes)\n",
    "    else:\n",
    "        continue\n",
    "        \n",
    "print(revenue)"
   ]
  },
  {
   "cell_type": "code",
   "execution_count": 26,
   "metadata": {},
   "outputs": [],
   "source": [
    "# Intermediate Problem\n",
    "# Print out the 3 most common letters in a string s, as well as their frequency\n",
    "# Order first by frequency, then by alphabet\n",
    "\n",
    "from collections import Counter\n",
    "\n",
    "s = input()"
   ]
  },
  {
   "cell_type": "code",
   "execution_count": 27,
   "metadata": {},
   "outputs": [
    {
     "name": "stdout",
     "output_type": "stream",
     "text": [
      "[['a', 2], ['n', 2], ['d', 3], ['k', 4], ['h', 3], ['w', 1], ['b', 7], ['s', 5]]\n"
     ]
    }
   ],
   "source": [
    "occurance = Counter(s)\n",
    "\n",
    "occurance_list = []\n",
    "\n",
    "for key, value in occurance.items():\n",
    "    occurance_list.append([key, value])\n",
    "\n",
    "print(occurance_list)"
   ]
  },
  {
   "cell_type": "code",
   "execution_count": 28,
   "metadata": {},
   "outputs": [
    {
     "name": "stdout",
     "output_type": "stream",
     "text": [
      "b 7\n",
      "s 5\n",
      "k 4\n"
     ]
    }
   ],
   "source": [
    "occurance_list.sort(key=lambda x:(-x[1], x[0]))\n",
    "\n",
    "x = 0\n",
    "for i in occurance_list:\n",
    "    if x == 3:\n",
    "        break\n",
    "    else:\n",
    "        print(i[0], i[1])\n",
    "    x+=1"
   ]
  },
  {
   "cell_type": "code",
   "execution_count": 35,
   "metadata": {},
   "outputs": [],
   "source": [
    "# Maximize Function\n",
    "# Given K lists of integers, and the number M\n",
    "# Select only one int from each list such that the modulus of the sum and M is maximized\n",
    "\n",
    "'''\n",
    "Prompt\n",
    "You are given a nested list K. K contains N number of lists, each of which contains a random number of integers.\n",
    "You are given a single number M. \n",
    "'''\n",
    "\n",
    "k_and_m = [int(x) for x in input().split()]\n",
    "\n",
    "k_lists = []\n",
    "for i in range(k_and_m[0]):\n",
    "    a_list = [int(x) for x in input().split()]\n",
    "    k_lists.append(a_list)"
   ]
  },
  {
   "cell_type": "code",
   "execution_count": null,
   "metadata": {},
   "outputs": [],
   "source": [
    "def generate_all_variants(k_lists):\n",
    "    the_big_list = []\n",
    "    "
   ]
  },
  {
   "cell_type": "code",
   "execution_count": 41,
   "metadata": {},
   "outputs": [
    {
     "name": "stdout",
     "output_type": "stream",
     "text": [
      "44\n"
     ]
    }
   ],
   "source": [
    "def find_modulo(the_big_list, m):\n",
    "    modulo_list = []\n",
    "    modulo = 0\n",
    "    for k in k_lists:\n",
    "        modulo = sum(k)%m\n",
    "        modulo_list.append(modulo)\n",
    "    print(max(modulo_list))\n",
    "\n",
    "find_modulo(k_lists, k_and_m[1])"
   ]
  },
  {
   "cell_type": "code",
   "execution_count": 46,
   "metadata": {},
   "outputs": [
    {
     "name": "stdout",
     "output_type": "stream",
     "text": [
      "[[2, 5, 4], [3, 7, 8, 9], [5, 5, 7, 8, 9, 10]]\n"
     ]
    }
   ],
   "source": [
    "print(k_lists)"
   ]
  },
  {
   "cell_type": "code",
   "execution_count": 44,
   "metadata": {},
   "outputs": [
    {
     "name": "stdout",
     "output_type": "stream",
     "text": [
      "[2, 5, 83, 9]\n"
     ]
    }
   ],
   "source": [
    "test_case = [int(x) for x in input().split()]\n",
    "print(test_case)"
   ]
  }
 ],
 "metadata": {
  "kernelspec": {
   "display_name": "tea-biscuits-env",
   "language": "python",
   "name": "python3"
  },
  "language_info": {
   "codemirror_mode": {
    "name": "ipython",
    "version": 3
   },
   "file_extension": ".py",
   "mimetype": "text/x-python",
   "name": "python",
   "nbconvert_exporter": "python",
   "pygments_lexer": "ipython3",
   "version": "3.10.6"
  },
  "orig_nbformat": 4
 },
 "nbformat": 4,
 "nbformat_minor": 2
}
